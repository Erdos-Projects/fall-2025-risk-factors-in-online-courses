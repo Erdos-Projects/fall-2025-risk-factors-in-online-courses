{
 "cells": [
  {
   "cell_type": "markdown",
   "id": "70dda72a",
   "metadata": {},
   "source": [
    "**Some numbers re: \"how much data do we have\"**\n",
    "\n",
    "(More detailed numbers and visualizations below!)\n",
    "\n",
    "- There are 22 (module, presentation) combinations (7 modules, 4 presentations; some modules did not run during some presentations). \n",
    "\n",
    "- There are ~350-2000 students per (module, presentation) combination.\n",
    "\n",
    "- For each (student, module, presentation) combination (i.e. each \"unique student\", where the same person in a different module / presentation is considered as a different \"unique student\"), the total number of interactions varies widely, following what appears to be an exponential distribution. The median number of interactions is 720, the mean is ~1335. I have not looked into whether the distribution of the number of interactions is significantly different between different (module, presentation) combinations; a priori there is no reason to suspect it would be."
   ]
  },
  {
   "cell_type": "code",
   "execution_count": 1,
   "id": "d30f30fa",
   "metadata": {},
   "outputs": [],
   "source": [
    "import pandas as pd, numpy as np, matplotlib.pyplot as plt"
   ]
  },
  {
   "cell_type": "markdown",
   "id": "2d5a650d",
   "metadata": {},
   "source": [
    "Import modules and load dataset (streaming OULAD)"
   ]
  },
  {
   "cell_type": "code",
   "execution_count": 2,
   "id": "18b24cad",
   "metadata": {},
   "outputs": [],
   "source": [
    "df = pd.read_csv('ouladstr.csv')"
   ]
  },
  {
   "cell_type": "markdown",
   "id": "35ca037d",
   "metadata": {},
   "source": [
    "We first look at number of data rows per module. Note some modules may have more than one presentation, i.e. may run in more than one session/semester."
   ]
  },
  {
   "cell_type": "code",
   "execution_count": 3,
   "id": "61dd22fd",
   "metadata": {},
   "outputs": [
    {
     "data": {
      "text/plain": [
       "(array([ 62531., 307903., 200407., 367566., 172360., 523774.,  84442.]),\n",
       " array([0., 1., 2., 3., 4., 5., 6., 7.]),\n",
       " <BarContainer object of 7 artists>)"
      ]
     },
     "execution_count": 3,
     "metadata": {},
     "output_type": "execute_result"
    },
    {
     "data": {
      "image/png": "[encoded data removed]",
      "text/plain": [
       "<Figure size 640x480 with 1 Axes>"
      ]
     },
     "metadata": {},
     "output_type": "display_data"
    }
   ],
   "source": [
    "plt.hist(df[\"code_module\"],bins=np.arange(0,8,1))"
   ]
  },
  {
   "cell_type": "markdown",
   "id": "d26084a0",
   "metadata": {},
   "source": [
    "We next look at the number of data rows per module-presentation (i.e. for modules which run more than once, we consider each run separately). Below, the rows of the array represent modules (0 through 6), the columns repesent presentations (0 through 4). In the 2D histogram, the color scale goes from cold/purple (low numbers / 0) to warm/yellow (high numbers)."
   ]
  },
  {
   "cell_type": "code",
   "execution_count": 4,
   "id": "b9a6135f",
   "metadata": {},
   "outputs": [
    {
     "data": {
      "text/plain": [
       "(array([[     0.,  32397.,      0.,  30134.],\n",
       "        [ 77153.,  92683.,  55657.,  82410.],\n",
       "        [     0.,      0.,  79947., 120460.],\n",
       "        [ 84538., 117704.,  63374., 101950.],\n",
       "        [     0.,  62638.,  37124.,  72598.],\n",
       "        [119150., 154987.,  90927., 158710.],\n",
       "        [     0.,  32413.,  26429.,  25600.]]),\n",
       " array([0, 1, 2, 3, 4, 5, 6, 7]),\n",
       " array([0, 1, 2, 3, 4]),\n",
       " <matplotlib.collections.QuadMesh at 0x1be1bc207d0>)"
      ]
     },
     "execution_count": 4,
     "metadata": {},
     "output_type": "execute_result"
    },
    {
     "data": {
      "image/png": "[encoded data removed]",
      "text/plain": [
       "<Figure size 640x480 with 1 Axes>"
      ]
     },
     "metadata": {},
     "output_type": "display_data"
    }
   ],
   "source": [
    "plt.hist2d(df[\"code_module\"],df[\"code_presentation\"],\n",
    "           bins=[np.arange(0,8,1), np.arange(0,5,1)])"
   ]
  },
  {
   "cell_type": "markdown",
   "id": "4f568504",
   "metadata": {},
   "source": [
    "We see that certain modules (e.g. 0, 6) seem to generate less data than others (e.g. 5). \n",
    "\n",
    "Also the even presentations (0 and 2) seem to generate less data than the odd ones (1 or 3). We note the even codes correspond to presentations starting in February and the odd ones correspond to presentations starting in October, so this may reflect some version of students being more active in the Fall / first semester of the year compared to the Spring / second semester."
   ]
  },
  {
   "cell_type": "markdown",
   "id": "4f816ae6",
   "metadata": {},
   "source": [
    "We next look at the number of unique students per module-presentation, and the total/average number of interactions per student in each module-presentation."
   ]
  },
  {
   "cell_type": "code",
   "execution_count": 5,
   "id": "72940840",
   "metadata": {},
   "outputs": [],
   "source": [
    "dfs = df.drop(['dataplus','date','score'], axis=1)\n",
    "student_feats = ['gender','region','highest_education','imd_band','age_band',\n",
    "                 'num_of_prev_attempts','studied_credits','final_result']\n",
    "tag = ['id_student','code_module','code_presentation']\n",
    "X1 = dfs.drop(student_feats,axis=1).groupby(tag).sum()\n",
    "X2y = dfs[tag+student_feats].groupby(tag).mean()\n",
    "dfc = pd.concat([X1,X2y],axis=1)"
   ]
  },
  {
   "cell_type": "code",
   "execution_count": 6,
   "id": "6ed58778",
   "metadata": {},
   "outputs": [],
   "source": [
    "tags=dfc.index.to_frame()"
   ]
  },
  {
   "cell_type": "code",
   "execution_count": 7,
   "id": "93884bd5",
   "metadata": {},
   "outputs": [
    {
     "data": {
      "text/plain": [
       "array([[   0.,  363.,    0.,  349.],\n",
       "       [1518., 1857., 1284., 1908.],\n",
       "       [   0.,    0., 1582., 2162.],\n",
       "       [1157., 1692., 1060., 1567.],\n",
       "       [   0.,  915.,  606., 1052.],\n",
       "       [1420., 2002., 1294., 2027.],\n",
       "       [   0.,  892.,  770.,  697.]])"
      ]
     },
     "execution_count": 7,
     "metadata": {},
     "output_type": "execute_result"
    }
   ],
   "source": [
    "count=np.zeros(shape=(7,4))\n",
    "for module in np.arange(0,7,1):\n",
    "    for pres in np.arange(0,4,1): \n",
    "        count[module,pres] = len(dfc[(tags[\"code_module\"]==module) & \n",
    "                        (tags[\"code_presentation\"]==pres)])\n",
    "        #if count[module,pres]: print(\"Module\", module, \"Presentation\", pres,\n",
    "        #                \":\", count[module,pres], \"students.\")\n",
    "\n",
    "count"
   ]
  },
  {
   "cell_type": "markdown",
   "id": "deaa06a1",
   "metadata": {},
   "source": [
    "Again, in the array above, the columns represent presentations and the rows present modules. Let's visualize that data in a 2D colormap:"
   ]
  },
  {
   "cell_type": "code",
   "execution_count": 8,
   "id": "d4712418",
   "metadata": {},
   "outputs": [
    {
     "data": {
      "text/plain": [
       "<matplotlib.image.AxesImage at 0x1be1bcc59a0>"
      ]
     },
     "execution_count": 8,
     "metadata": {},
     "output_type": "execute_result"
    },
    {
     "data": {
      "image/png": "[encoded data removed]",
      "text/plain": [
       "<Figure size 640x480 with 1 Axes>"
      ]
     },
     "metadata": {},
     "output_type": "display_data"
    }
   ],
   "source": [
    "plt.imshow(count, extent=[0.0, 4.0, 0.0, 7.0], origin='lower', cmap='magma')"
   ]
  },
  {
   "cell_type": "markdown",
   "id": "d4c58ba8",
   "metadata": {},
   "source": [
    "We see the odd presentations again seem to have more students, and certain modules have more students than others. "
   ]
  },
  {
   "cell_type": "markdown",
   "id": "b82395e2",
   "metadata": {},
   "source": [
    "Finally we look at the number of interactions per student-module-presentation. First we pick out the features corresponding to student interactions with the learning platform. We note the values of these features gives the number of times the student has that type of interaction over the course of that module-presentation."
   ]
  },
  {
   "cell_type": "code",
   "execution_count": 9,
   "id": "8ceb607d",
   "metadata": {},
   "outputs": [
    {
     "data": {
      "text/plain": [
       "Index(['dualpane', 'externalquiz', 'folder', 'forumng', 'glossary', 'homepage',\n",
       "       'htmlactivity', 'oucollaborate', 'oucontent', 'ouelluminate', 'ouwiki',\n",
       "       'page', 'questionnaire', 'quiz', 'repeatactivity', 'resource',\n",
       "       'sharedsubpage', 'subpage', 'url'],\n",
       "      dtype='object')"
      ]
     },
     "execution_count": 9,
     "metadata": {},
     "output_type": "execute_result"
    }
   ],
   "source": [
    "interact_features = df.columns[13:-2]\n",
    "interact_features"
   ]
  },
  {
   "cell_type": "markdown",
   "id": "bba1e4ce",
   "metadata": {},
   "source": [
    "We then add up the values of all these features to obtain the total number of recorded interactions between each student and the learning platform (in each module-presentation)."
   ]
  },
  {
   "cell_type": "code",
   "execution_count": 10,
   "id": "ccdfaab6",
   "metadata": {},
   "outputs": [
    {
     "data": {
      "text/plain": [
       "count    28174.000000\n",
       "mean      1334.948250\n",
       "std       1721.892263\n",
       "min          1.000000\n",
       "25%        252.000000\n",
       "50%        720.000000\n",
       "75%       1737.750000\n",
       "max      24139.000000\n",
       "dtype: float64"
      ]
     },
     "execution_count": 10,
     "metadata": {},
     "output_type": "execute_result"
    }
   ],
   "source": [
    "num_interacts=dfc[interact_features].sum(axis=1)\n",
    "num_interacts.describe()"
   ]
  },
  {
   "cell_type": "markdown",
   "id": "e390998b",
   "metadata": {},
   "source": [
    "We see that there is a(t least one) student with only one recorded interaction (for some module-presentation); the median student had about 720 interactions; the mean student had about 1334 interactions (and the standard deviation is huge). So:\n",
    "- there is a large range of student behaviors from the point of view of total # interactions;;\n",
    "- the distribution is right-skewed: presumably a relatively small number of high-interaction students are making the mean much higher than the median.\n",
    "We visualize this data some more below:"
   ]
  },
  {
   "cell_type": "code",
   "execution_count": 13,
   "id": "2a6fc582",
   "metadata": {},
   "outputs": [
    {
     "data": {
      "text/plain": [
       "(array([1.5033e+04, 5.5810e+03, 2.7840e+03, 1.6650e+03, 1.0570e+03,\n",
       "        7.2800e+02, 4.5900e+02, 2.9600e+02, 1.6100e+02, 1.3500e+02,\n",
       "        8.0000e+01, 5.5000e+01, 4.6000e+01, 2.3000e+01, 1.4000e+01,\n",
       "        9.0000e+00, 7.0000e+00, 1.0000e+01, 1.2000e+01, 7.0000e+00,\n",
       "        2.0000e+00, 2.0000e+00, 2.0000e+00, 1.0000e+00, 3.0000e+00,\n",
       "        0.0000e+00, 1.0000e+00, 0.0000e+00, 0.0000e+00, 1.0000e+00]),\n",
       " array([1.00000e+00, 8.05600e+02, 1.61020e+03, 2.41480e+03, 3.21940e+03,\n",
       "        4.02400e+03, 4.82860e+03, 5.63320e+03, 6.43780e+03, 7.24240e+03,\n",
       "        8.04700e+03, 8.85160e+03, 9.65620e+03, 1.04608e+04, 1.12654e+04,\n",
       "        1.20700e+04, 1.28746e+04, 1.36792e+04, 1.44838e+04, 1.52884e+04,\n",
       "        1.60930e+04, 1.68976e+04, 1.77022e+04, 1.85068e+04, 1.93114e+04,\n",
       "        2.01160e+04, 2.09206e+04, 2.17252e+04, 2.25298e+04, 2.33344e+04,\n",
       "        2.41390e+04]),\n",
       " <BarContainer object of 30 artists>)"
      ]
     },
     "execution_count": 13,
     "metadata": {},
     "output_type": "execute_result"
    },
    {
     "data": {
      "image/png": "[encoded data removed]",
      "text/plain": [
       "<Figure size 640x480 with 1 Axes>"
      ]
     },
     "metadata": {},
     "output_type": "display_data"
    }
   ],
   "source": [
    "plt.hist(num_interacts,bins=30)"
   ]
  },
  {
   "cell_type": "markdown",
   "id": "426d0a9f",
   "metadata": {},
   "source": [
    "I did not try to actually fit any curves / distributions, but this looks pretty exponential ..."
   ]
  },
  {
   "cell_type": "code",
   "execution_count": 12,
   "id": "c013f532",
   "metadata": {},
   "outputs": [
    {
     "data": {
      "text/plain": [
       "{'bodies': [<matplotlib.collections.FillBetweenPolyCollection at 0x1be35caa7e0>],\n",
       " 'cmaxes': <matplotlib.collections.LineCollection at 0x1be35817fb0>,\n",
       " 'cmins': <matplotlib.collections.LineCollection at 0x1be35cbacf0>,\n",
       " 'cbars': <matplotlib.collections.LineCollection at 0x1be358dcda0>}"
      ]
     },
     "execution_count": 12,
     "metadata": {},
     "output_type": "execute_result"
    },
    {
     "data": {
      "image/png": "[encoded data removed]",
      "text/plain": [
       "<Figure size 640x480 with 1 Axes>"
      ]
     },
     "metadata": {},
     "output_type": "display_data"
    }
   ],
   "source": [
    "plt.violinplot(num_interacts)"
   ]
  }
 ],
 "metadata": {
  "kernelspec": {
   "display_name": "erdos_ds_environment",
   "language": "python",
   "name": "python3"
  },
  "language_info": {
   "codemirror_mode": {
    "name": "ipython",
    "version": 3
   },
   "file_extension": ".py",
   "mimetype": "text/x-python",
   "name": "python",
   "nbconvert_exporter": "python",
   "pygments_lexer": "ipython3",
   "version": "3.12.11"
  }
 },
 "nbformat": 4,
 "nbformat_minor": 5
}
